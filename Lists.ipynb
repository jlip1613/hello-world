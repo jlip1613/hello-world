{
  "nbformat": 4,
  "nbformat_minor": 0,
  "metadata": {
    "colab": {
      "name": "Lists ",
      "provenance": [],
      "collapsed_sections": [],
      "authorship_tag": "ABX9TyNl0zdH9W1lchc0sVFGNqh5",
      "include_colab_link": true
    },
    "kernelspec": {
      "name": "python3",
      "display_name": "Python 3"
    },
    "language_info": {
      "name": "python"
    }
  },
  "cells": [
    {
      "cell_type": "markdown",
      "metadata": {
        "id": "view-in-github",
        "colab_type": "text"
      },
      "source": [
        "<a href=\"https://colab.research.google.com/github/jlip1613/hello-world/blob/version-2/Lists.ipynb\" target=\"_parent\"><img src=\"https://colab.research.google.com/assets/colab-badge.svg\" alt=\"Open In Colab\"/></a>"
      ]
    },
    {
      "cell_type": "markdown",
      "source": [
        "#Lists "
      ],
      "metadata": {
        "id": "T12Y542aGyQg"
      }
    },
    {
      "cell_type": "code",
      "source": [
        ""
      ],
      "metadata": {
        "id": "4Tu9sgcHGNcR"
      },
      "execution_count": null,
      "outputs": []
    },
    {
      "cell_type": "markdown",
      "source": [
        "List are used to store multiple items in a single value. They are one of four built in data types in python: List,Tuple,Set, and Dictionary "
      ],
      "metadata": {
        "id": "oZCW2wVLHuq5"
      }
    },
    {
      "cell_type": "markdown",
      "source": [
        "Lists are ceated using [ ]"
      ],
      "metadata": {
        "id": "mXgME7Z8IDBf"
      }
    },
    {
      "cell_type": "code",
      "source": [
        "myFirstList=[1,2,3,4,5]\n",
        "mySecondList=[\"James\",\"Kevin\",\"Ashley\"]\n",
        "print(myFirstList)"
      ],
      "metadata": {
        "colab": {
          "base_uri": "https://localhost:8080/"
        },
        "id": "lBIGJ3vjIH7l",
        "outputId": "6738d0cf-4606-419c-f622-2af0440dc168"
      },
      "execution_count": null,
      "outputs": [
        {
          "output_type": "stream",
          "name": "stdout",
          "text": [
            "[1, 2, 3, 4, 5]\n"
          ]
        }
      ]
    },
    {
      "cell_type": "markdown",
      "source": [
        "List items are ordered, changeable and allow duplicate values"
      ],
      "metadata": {
        "id": "2tHEvuH0IeZs"
      }
    },
    {
      "cell_type": "markdown",
      "source": [
        "Items in a list are indexed. The first items has an index of [0] the next an index of [1] and so on "
      ],
      "metadata": {
        "id": "Yi-_lnKFIsTt"
      }
    },
    {
      "cell_type": "markdown",
      "source": [
        "The items in a list have a defined order and that order will not change. If we add a new item to a list the new item is placed at the end of the list. \n",
        "\n",
        "* some list methods might change the order but in general the order will not change"
      ],
      "metadata": {
        "id": "Jn0hUecHI7Fb"
      }
    },
    {
      "cell_type": "markdown",
      "source": [
        "We can add/remove items from the list after it has been created "
      ],
      "metadata": {
        "id": "icC64hsbJpfJ"
      }
    },
    {
      "cell_type": "code",
      "source": [
        "#Allow Duplicates\n",
        "ls=[\"James\",\"kevin\",\"ashley\",\"James\"]\n",
        "print(ls)"
      ],
      "metadata": {
        "colab": {
          "base_uri": "https://localhost:8080/"
        },
        "id": "guX2CBQyJzQw",
        "outputId": "4204c0a9-ccbe-4666-d568-e8f45d7bc453"
      },
      "execution_count": null,
      "outputs": [
        {
          "output_type": "stream",
          "name": "stdout",
          "text": [
            "['James', 'kevin', 'ashley', 'James']\n"
          ]
        }
      ]
    },
    {
      "cell_type": "markdown",
      "source": [
        "List length-how many items in list:\n",
        "\n",
        "len(list)"
      ],
      "metadata": {
        "id": "pwDuCZe0KPS_"
      }
    },
    {
      "cell_type": "code",
      "source": [
        "print(len(ls))"
      ],
      "metadata": {
        "colab": {
          "base_uri": "https://localhost:8080/"
        },
        "id": "5q8nSRztKUB1",
        "outputId": "bb928e80-7daa-4630-d5d9-dddaa3f43afb"
      },
      "execution_count": null,
      "outputs": [
        {
          "output_type": "stream",
          "name": "stdout",
          "text": [
            "4\n"
          ]
        }
      ]
    },
    {
      "cell_type": "markdown",
      "source": [
        "a list can be of any data type  and can have different data types "
      ],
      "metadata": {
        "id": "X3ktlQKcKjPk"
      }
    },
    {
      "cell_type": "code",
      "source": [
        "list1=[1,2.4,\"Four\",True]\n",
        "print(list1)"
      ],
      "metadata": {
        "colab": {
          "base_uri": "https://localhost:8080/"
        },
        "id": "zss8tCbOKMqv",
        "outputId": "05a18715-bacc-481c-f637-801498380cd6"
      },
      "execution_count": null,
      "outputs": [
        {
          "output_type": "stream",
          "name": "stdout",
          "text": [
            "[1, 2.4, 'Four', True]\n"
          ]
        }
      ]
    },
    {
      "cell_type": "code",
      "source": [
        "type(list1)\n"
      ],
      "metadata": {
        "colab": {
          "base_uri": "https://localhost:8080/"
        },
        "id": "uGDdCS8qHMrz",
        "outputId": "bc32182d-43c2-4eea-d84c-ea0f94bb843c"
      },
      "execution_count": null,
      "outputs": [
        {
          "output_type": "execute_result",
          "data": {
            "text/plain": [
              "int"
            ]
          },
          "metadata": {},
          "execution_count": 9
        }
      ]
    },
    {
      "cell_type": "markdown",
      "source": [
        "#Access Items \n",
        "\n",
        "List items are indexed so we can access elements by the index\n",
        "\n",
        "Inedx starts at 0!!!!!"
      ],
      "metadata": {
        "id": "AHyGdv2TGPY-"
      }
    },
    {
      "cell_type": "code",
      "source": [
        "ls1=[\"james\",\"julie\",\"ashley\",\"kevin\"]\n",
        "\n",
        "print(ls1[0])"
      ],
      "metadata": {
        "colab": {
          "base_uri": "https://localhost:8080/"
        },
        "id": "R4gB7NZWGOl2",
        "outputId": "3dbf507c-e548-45ad-bc4c-f68f0eebe104"
      },
      "execution_count": 7,
      "outputs": [
        {
          "output_type": "stream",
          "name": "stdout",
          "text": [
            "james\n"
          ]
        }
      ]
    },
    {
      "cell_type": "markdown",
      "source": [
        "Negative indexing:start from the end"
      ],
      "metadata": {
        "id": "_YFIZkhcHCj7"
      }
    },
    {
      "cell_type": "code",
      "source": [
        "print(ls1[-1])"
      ],
      "metadata": {
        "colab": {
          "base_uri": "https://localhost:8080/"
        },
        "id": "KwqvgtZCHKR5",
        "outputId": "f14b41a2-b57b-4c4c-c27d-109ef62c2ff9"
      },
      "execution_count": 3,
      "outputs": [
        {
          "output_type": "stream",
          "name": "stdout",
          "text": [
            "ashley\n"
          ]
        }
      ]
    },
    {
      "cell_type": "markdown",
      "source": [
        "Range of Indexes:\n",
        "\n"
      ],
      "metadata": {
        "id": "yto54xrdHfOa"
      }
    },
    {
      "cell_type": "code",
      "source": [
        "ls2=[1,2,3,45,63,3,33,78,34,22,90,47]\n",
        "print(ls2[2:6])\n",
        "#this search stats at index 2 and ends at index 6 not included"
      ],
      "metadata": {
        "colab": {
          "base_uri": "https://localhost:8080/"
        },
        "id": "_wwr2LvbHjyn",
        "outputId": "ccd3698d-180d-455e-f65f-5123c29f953b"
      },
      "execution_count": 4,
      "outputs": [
        {
          "output_type": "stream",
          "name": "stdout",
          "text": [
            "[3, 45, 63, 3]\n"
          ]
        }
      ]
    },
    {
      "cell_type": "markdown",
      "source": [
        "check if item exists\n",
        "**in ** keyword checks if an item is in the list "
      ],
      "metadata": {
        "id": "Wa_M76YYIaAv"
      }
    },
    {
      "cell_type": "code",
      "source": [
        "if 45 in ls2:\n",
        "  print(\"We found 45!\")"
      ],
      "metadata": {
        "colab": {
          "base_uri": "https://localhost:8080/"
        },
        "id": "mH_-0ZeDIhX_",
        "outputId": "5f813c11-29ac-480e-e054-64f1fe9f406b"
      },
      "execution_count": 5,
      "outputs": [
        {
          "output_type": "stream",
          "name": "stdout",
          "text": [
            "We found 45!\n"
          ]
        }
      ]
    },
    {
      "cell_type": "markdown",
      "source": [
        "#Change List Items \n",
        "\n",
        "refer to the index number "
      ],
      "metadata": {
        "id": "D1uFSALpI-n0"
      }
    },
    {
      "cell_type": "code",
      "source": [
        "ls1=[\"james\",\"julie\",\"ashley\",\"kevin\"]\n",
        "ls1[0]=\"jim\"\n",
        "print(ls1)"
      ],
      "metadata": {
        "colab": {
          "base_uri": "https://localhost:8080/"
        },
        "id": "Z91iQFG7JF2n",
        "outputId": "bb0b52bd-2ad7-492a-91ef-332587302492"
      },
      "execution_count": 40,
      "outputs": [
        {
          "output_type": "stream",
          "name": "stdout",
          "text": [
            "['jim', 'julie', 'ashley', 'kevin']\n"
          ]
        }
      ]
    },
    {
      "cell_type": "code",
      "source": [
        "#change over range of item values \n",
        "\n",
        "ls1[1:4]=[\"jules\",\"ash\",\"kev\"]\n",
        "print(ls1)"
      ],
      "metadata": {
        "colab": {
          "base_uri": "https://localhost:8080/"
        },
        "id": "MxyxJ6m8JjBS",
        "outputId": "82d2d6d0-3666-430b-ca95-2a9f92024502"
      },
      "execution_count": 41,
      "outputs": [
        {
          "output_type": "stream",
          "name": "stdout",
          "text": [
            "['jim', 'jules', 'ash', 'kev']\n"
          ]
        }
      ]
    },
    {
      "cell_type": "markdown",
      "source": [
        "insert items:inserts item without replacing any of the existing items  \n",
        "\n",
        "**insert(index,item)**"
      ],
      "metadata": {
        "id": "-V0rXsmLKrrX"
      }
    },
    {
      "cell_type": "code",
      "source": [
        "ls1.insert(1,\"tom\")\n",
        "print(ls1)"
      ],
      "metadata": {
        "colab": {
          "base_uri": "https://localhost:8080/"
        },
        "id": "ecHhHOLCKq8J",
        "outputId": "e610e58c-caa1-4266-a255-039ea6779b8d"
      },
      "execution_count": 42,
      "outputs": [
        {
          "output_type": "stream",
          "name": "stdout",
          "text": [
            "['jim', 'tom', 'jules', 'ash', 'kev']\n"
          ]
        }
      ]
    },
    {
      "cell_type": "markdown",
      "source": [
        "Append Item- adds item to end of list \n",
        "\n",
        "**append(item)**"
      ],
      "metadata": {
        "id": "R5cdcC7fLop2"
      }
    },
    {
      "cell_type": "code",
      "source": [
        "ls1.append(\"frank\")\n",
        "print(ls1)"
      ],
      "metadata": {
        "colab": {
          "base_uri": "https://localhost:8080/"
        },
        "id": "nRqgEQzJLw5G",
        "outputId": "8f696314-0add-4797-8610-d78f80deed55"
      },
      "execution_count": 43,
      "outputs": [
        {
          "output_type": "stream",
          "name": "stdout",
          "text": [
            "['jim', 'tom', 'jules', 'ash', 'kev', 'frank']\n"
          ]
        }
      ]
    },
    {
      "cell_type": "markdown",
      "source": [
        "Extend List:allows us to append two lists \n",
        "\n",
        "**list1.extend(list2)**"
      ],
      "metadata": {
        "id": "ZQRvxbzXMrXs"
      }
    },
    {
      "cell_type": "code",
      "source": [
        "list1=[1,2,3,4,5]\n",
        "list2=[6,7,8,9,10]\n",
        "list1.extend(list2)\n",
        "print(list1)"
      ],
      "metadata": {
        "colab": {
          "base_uri": "https://localhost:8080/"
        },
        "id": "UDKGjf5fM7G7",
        "outputId": "3e45761b-6aef-42ab-831e-ae563716dccc"
      },
      "execution_count": 46,
      "outputs": [
        {
          "output_type": "stream",
          "name": "stdout",
          "text": [
            "None\n"
          ]
        }
      ]
    },
    {
      "cell_type": "markdown",
      "source": [
        "#Remove list items\n",
        "\n",
        "**list.remove(item)**"
      ],
      "metadata": {
        "id": "xZdB2oa0Nrd_"
      }
    },
    {
      "cell_type": "code",
      "source": [
        "ls1=[\"james\",\"julie\",\"ashley\",\"kevin\",\"kevin\"]\n",
        "ls1.remove(\"kevin\")\n",
        "print(ls1)"
      ],
      "metadata": {
        "colab": {
          "base_uri": "https://localhost:8080/"
        },
        "id": "XPLmnPgIOOhG",
        "outputId": "7ed3ec1d-97a4-439a-bcc6-d205204a60e6"
      },
      "execution_count": 50,
      "outputs": [
        {
          "output_type": "stream",
          "name": "stdout",
          "text": [
            "['james', 'julie', 'ashley', 'kevin']\n"
          ]
        }
      ]
    },
    {
      "cell_type": "markdown",
      "source": [
        "Remove items by index\n",
        "\n",
        "**list.pop(index)**"
      ],
      "metadata": {
        "id": "3uhIOtsYOiqo"
      }
    },
    {
      "cell_type": "code",
      "source": [
        "ls1=[\"james\",\"julie\",\"ashley\",\"kevin\",\"kevin\"]\n",
        "ls1.pop(3)\n",
        "print(ls1)"
      ],
      "metadata": {
        "colab": {
          "base_uri": "https://localhost:8080/"
        },
        "id": "Vkdra5tDO6Zm",
        "outputId": "8e0d9c38-0193-4c3d-f7dc-d4e9510c8803"
      },
      "execution_count": 51,
      "outputs": [
        {
          "output_type": "stream",
          "name": "stdout",
          "text": [
            "['james', 'julie', 'ashley', 'kevin']\n"
          ]
        }
      ]
    },
    {
      "cell_type": "markdown",
      "source": [
        "del can remove an item or can delete a list \n",
        "\n",
        "**del list(index)**"
      ],
      "metadata": {
        "id": "SydFVaKVPR5U"
      }
    },
    {
      "cell_type": "code",
      "source": [
        "ls1=[\"james\",\"julie\",\"ashley\",\"kevin\",\"kevin\"]\n",
        "del ls1[1:3]\n",
        "print(ls1)"
      ],
      "metadata": {
        "colab": {
          "base_uri": "https://localhost:8080/"
        },
        "id": "T9ad_1ELPQp9",
        "outputId": "0f75da40-ddd8-4b93-d62f-2eecac97f69e"
      },
      "execution_count": 57,
      "outputs": [
        {
          "output_type": "stream",
          "name": "stdout",
          "text": [
            "['james', 'kevin', 'kevin']\n"
          ]
        }
      ]
    },
    {
      "cell_type": "code",
      "source": [
        "# del ls1 will delete the list \n"
      ],
      "metadata": {
        "id": "5ZyFmp5JPrEM"
      },
      "execution_count": 56,
      "outputs": []
    },
    {
      "cell_type": "markdown",
      "source": [
        "clear the items in a list \n",
        "\n",
        "**list.clear()**"
      ],
      "metadata": {
        "id": "wm_p4e3qP5ss"
      }
    },
    {
      "cell_type": "code",
      "source": [
        "ls1.clear()\n",
        "print(ls1)"
      ],
      "metadata": {
        "colab": {
          "base_uri": "https://localhost:8080/"
        },
        "id": "NPkLVaRLP-4j",
        "outputId": "1a804c41-576c-479a-fc5b-d7f04bc10a18"
      },
      "execution_count": 58,
      "outputs": [
        {
          "output_type": "stream",
          "name": "stdout",
          "text": [
            "[]\n"
          ]
        }
      ]
    },
    {
      "cell_type": "markdown",
      "source": [
        "# Loop Lists"
      ],
      "metadata": {
        "id": "pSoKw4iMQxC3"
      }
    },
    {
      "cell_type": "code",
      "source": [
        "#lofdfop through a list\n",
        "ls1=[\"james\",\"julie\",\"ashley\",\"kevin\",\"kevin\"]\n",
        "\n",
        "for x in ls1:\n",
        "  print(x)\n"
      ],
      "metadata": {
        "colab": {
          "base_uri": "https://localhost:8080/"
        },
        "id": "_n9JlLJ9QvLC",
        "outputId": "3cc16394-3380-47cb-83df-8946778508e2"
      },
      "execution_count": 59,
      "outputs": [
        {
          "output_type": "stream",
          "name": "stdout",
          "text": [
            "james\n",
            "julie\n",
            "ashley\n",
            "kevin\n",
            "kevin\n"
          ]
        }
      ]
    },
    {
      "cell_type": "code",
      "source": [
        "#loop by index number \n",
        "\n",
        "ls1=[\"james\",\"julie\",\"ashley\",\"kevin\",\"kevin\"]\n",
        "\n",
        "for x in range(1,4):\n",
        "  print(ls1[x])"
      ],
      "metadata": {
        "colab": {
          "base_uri": "https://localhost:8080/"
        },
        "id": "kaw2UOwsRF8Q",
        "outputId": "e038c45e-a5de-4035-81a3-c6cb81ace42b"
      },
      "execution_count": 64,
      "outputs": [
        {
          "output_type": "stream",
          "name": "stdout",
          "text": [
            "['james', 'julie', 'ashley', 'kevin', 'kevin']\n",
            "['james', 'julie', 'ashley', 'kevin', 'kevin']\n",
            "['james', 'julie', 'ashley', 'kevin', 'kevin']\n"
          ]
        }
      ]
    }
  ]
}